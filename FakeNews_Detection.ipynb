{
 "cells": [
  {
   "cell_type": "code",
   "execution_count": 45,
   "id": "746c31ea",
   "metadata": {},
   "outputs": [
    {
     "name": "stdout",
     "output_type": "stream",
     "text": [
      "Dataset merged successfully!\n"
     ]
    }
   ],
   "source": [
    "import pandas as pd\n",
    "import os\n",
    "\n",
    "# Paths to your existing Fake and True CSV files\n",
    "fake = pd.read_csv(r\"E:\\Projects\\FakeNewsDetection\\News _dataset\\Fake.csv\")\n",
    "true = pd.read_csv(r\"E:\\Projects\\FakeNewsDetection\\News _dataset\\True.csv\")\n",
    "\n",
    "fake['label'] = 'FAKE'\n",
    "true['label'] = 'REAL'\n",
    "\n",
    "# Combine both datasets\n",
    "news = pd.concat([fake, true])\n",
    "\n",
    "#Shuffle the dataset\n",
    "news = news.sample(frac=1, random_state=7).reset_index(drop=True)\n",
    "\n",
    "# Save the combined dataset to the correct folder\n",
    "output_file = r\"E:\\Projects\\FakeNewsDetection\\News _dataset\\news.csv\"\n",
    "news.to_csv(output_file, index=False)\n",
    "\n",
    "print(\"Dataset merged successfully!\")\n"
   ]
  },
  {
   "cell_type": "code",
   "execution_count": 50,
   "id": "d96e4da4",
   "metadata": {},
   "outputs": [
    {
     "name": "stdout",
     "output_type": "stream",
     "text": [
      "(44898, 5)\n",
      "                                               title  \\\n",
      "0  Senate backs massive increase in military spen...   \n",
      "1   Anonymous GOP Reps Admit Clinton Will Win, Bl...   \n",
      "2   ‘A Gimmick’: It Just Dawned On Republicans Th...   \n",
      "3  USA's Tillerson and Saudi crown prince discuss...   \n",
      "4  U.S. Senate confirms Acosta to head Labor Depa...   \n",
      "\n",
      "                                                text       subject  \\\n",
      "0  WASHINGTON (Reuters) - The U.S. Senate passed ...  politicsNews   \n",
      "1  Republicans are already predicting doom and gl...          News   \n",
      "2  While on the campaign trail, reality show star...          News   \n",
      "3  RIYADH (Reuters) - U.S. Secretary of State Rex...     worldnews   \n",
      "4  WASHINGTON (Reuters) - R. Alexander Acosta was...  politicsNews   \n",
      "\n",
      "                  date label  \n",
      "0  September 18, 2017   REAL  \n",
      "1      August 11, 2016  FAKE  \n",
      "2      January 7, 2017  FAKE  \n",
      "3   November 20, 2017   REAL  \n",
      "4      April 27, 2017   REAL  \n",
      "Index(['title', 'text', 'subject', 'date', 'label'], dtype='object')\n",
      "0    1\n",
      "1    0\n",
      "2    0\n",
      "3    1\n",
      "4    1\n",
      "Name: label, dtype: int64\n",
      "Accuracy: 0.987305122494432\n",
      "\n",
      "Classification Report:\n",
      "               precision    recall  f1-score   support\n",
      "\n",
      "           0       0.99      0.99      0.99      4658\n",
      "           1       0.99      0.99      0.99      4322\n",
      "\n",
      "    accuracy                           0.99      8980\n",
      "   macro avg       0.99      0.99      0.99      8980\n",
      "weighted avg       0.99      0.99      0.99      8980\n",
      "\n"
     ]
    }
   ],
   "source": [
    "# Step 1: Import libraries\n",
    "import pandas as pd\n",
    "from sklearn.model_selection import train_test_split\n",
    "from sklearn.feature_extraction.text import TfidfVectorizer\n",
    "from sklearn.linear_model import LogisticRegression\n",
    "from sklearn.metrics import accuracy_score, classification_report\n",
    "\n",
    "# Step 2: Load dataset\n",
    "df = pd.read_csv(r\"E:\\Projects\\FakeNewsDetection\\News _dataset\\news.csv\")\n",
    "\n",
    "# Step 3: Check columns and first few rows\n",
    "print(df.shape)\n",
    "print(df.head())\n",
    "print(df.columns)\n",
    "\n",
    "# Step 4: Convert labels to numeric (FAKE=0, REAL=1)\n",
    "labels = df['label'].map({'FAKE': 0, 'REAL': 1})\n",
    "print(labels.head())\n",
    "\n",
    "# Step 5: Split dataset into training and testing sets\n",
    "X_train, X_test, y_train, y_test = train_test_split(\n",
    "    df['text'], labels, test_size=0.2, random_state=42\n",
    ")\n",
    "\n",
    "# Step 6: Convert text to numeric features using TF-IDF\n",
    "vectorizer = TfidfVectorizer(stop_words='english', max_features=5000)\n",
    "X_train_vectors = vectorizer.fit_transform(X_train)\n",
    "X_test_vectors = vectorizer.transform(X_test)\n",
    "\n",
    "# Step 7: Train a Logistic Regression model\n",
    "model = LogisticRegression()\n",
    "model.fit(X_train_vectors, y_train)\n",
    "\n",
    "# Step 8: Make predictions on the test set\n",
    "y_pred = model.predict(X_test_vectors)\n",
    "\n",
    "# Step 9: Evaluate the model\n",
    "print(\"Accuracy:\", accuracy_score(y_test, y_pred))\n",
    "print(\"\\nClassification Report:\\n\", classification_report(y_test, y_pred))\n",
    "\n"
   ]
  },
  {
   "cell_type": "code",
   "execution_count": null,
   "id": "8971702e",
   "metadata": {},
   "outputs": [],
   "source": []
  }
 ],
 "metadata": {
  "kernelspec": {
   "display_name": "Python 3 (ipykernel)",
   "language": "python",
   "name": "python3"
  },
  "language_info": {
   "codemirror_mode": {
    "name": "ipython",
    "version": 3
   },
   "file_extension": ".py",
   "mimetype": "text/x-python",
   "name": "python",
   "nbconvert_exporter": "python",
   "pygments_lexer": "ipython3",
   "version": "3.7.8"
  }
 },
 "nbformat": 4,
 "nbformat_minor": 5
}
